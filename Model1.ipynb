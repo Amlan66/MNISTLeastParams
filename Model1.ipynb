{
 "cells": [
  {
   "cell_type": "markdown",
   "id": "e0ac689b",
   "metadata": {},
   "source": [
    "Model 1:\n",
    "Target \n",
    "1. Get the setup right - Transforms, Data Loader and Basic Training and testing loop\n",
    "2. Have a skeleton right with less params\n",
    "\n",
    "Result:\n",
    "1. Parameters : 12.9k\n",
    "2. Best Train Accuracy : 98.87\n",
    "3. Best Test Accuracy : 98.64\n",
    "\n",
    "Analysis:\n",
    "1. Good light model\n",
    "2. Initially the difference between train and test accuracy was less but gradually becomes constant. \n",
    "3. Intial accuracy is less and model takes time to learn, Batch norm can help."
   ]
  },
  {
   "cell_type": "code",
   "execution_count": 1,
   "id": "fb2da146",
   "metadata": {},
   "outputs": [],
   "source": [
    "from __future__ import print_function\n",
    "import torch\n",
    "import torch.nn as nn\n",
    "import torch.nn.functional as F\n",
    "import torch.optim as optim\n",
    "from torchvision import datasets, transforms"
   ]
  },
  {
   "cell_type": "code",
   "execution_count": 2,
   "id": "9045fe80",
   "metadata": {},
   "outputs": [],
   "source": [
    "train_transforms = transforms.Compose([\n",
    "    transforms.ToTensor(),\n",
    "    transforms.Normalize((0.1307,),(0.3081,))\n",
    "])\n",
    "\n",
    "test_transforms = transforms.Compose([\n",
    "    transforms.ToTensor(),\n",
    "    transforms.Normalize((0.1307,),(0.3081,))\n",
    "])"
   ]
  },
  {
   "cell_type": "code",
   "execution_count": 3,
   "id": "cac1b40b",
   "metadata": {},
   "outputs": [],
   "source": [
    "train = datasets.MNIST('./data', train=True, download=True, transform=train_transforms)\n",
    "test = datasets.MNIST('./data', train=False, download=True, transform=test_transforms)"
   ]
  },
  {
   "cell_type": "code",
   "execution_count": 4,
   "id": "2eefc9ef",
   "metadata": {},
   "outputs": [
    {
     "name": "stdout",
     "output_type": "stream",
     "text": [
      "CUDA Available? True\n"
     ]
    }
   ],
   "source": [
    "SEED = 1\n",
    "\n",
    "# CUDA?\n",
    "cuda = torch.cuda.is_available()\n",
    "print(\"CUDA Available?\", cuda)\n",
    "\n",
    "# For reproducibility\n",
    "torch.manual_seed(SEED)\n",
    "\n",
    "if cuda:\n",
    "    torch.cuda.manual_seed(SEED)\n",
    "\n",
    "dataloader_args = dict(shuffle=True, batch_size=128, num_workers=4, pin_memory=True) if cuda else dict(shuffle=True, batch_size=64)\n",
    "\n",
    "#train_loader\n",
    "train_loader = torch.utils.data.DataLoader(train, **dataloader_args)\n",
    "\n",
    "#test_loader\n",
    "test_loader = torch.utils.data.DataLoader(test, **dataloader_args)"
   ]
  },
  {
   "cell_type": "code",
   "execution_count": 13,
   "id": "2cf5001e",
   "metadata": {},
   "outputs": [],
   "source": [
    "class Net(nn.Module):\n",
    "  def __init__(self):\n",
    "    super(Net, self).__init__()\n",
    "\n",
    "    #INPUT\n",
    "    self.conv1= nn.Sequential(\n",
    "        nn.Conv2d(in_channels=1, out_channels=8, kernel_size=(3,3), padding=0, bias=False),\n",
    "        nn.ReLU()\n",
    "    )#output = 26\n",
    "\n",
    "    #CONV 1 BLOCK\n",
    "    self.conv2 = nn.Sequential(\n",
    "        nn.Conv2d(in_channels=8, out_channels=8, kernel_size=(3,3), padding=0, bias=False),\n",
    "        nn.ReLU()\n",
    "    )#output = 24\n",
    "\n",
    "    self.conv3 = nn.Sequential(\n",
    "        nn.Conv2d(in_channels=8, out_channels=16, kernel_size=(3,3), padding=0, bias=False),\n",
    "        nn.ReLU()\n",
    "    )#output = 22\n",
    "\n",
    "    #TRANSITION BLOCK\n",
    "    self.pool1 = nn.MaxPool2d(2,2)\n",
    "\n",
    "    self.conv4 = nn.Sequential(\n",
    "        nn.Conv2d(in_channels=16, out_channels=8, kernel_size=(1,1), padding=0, bias=False),\n",
    "        nn.ReLU()\n",
    "    )#output = 11\n",
    "\n",
    "    #CONV 2 BLOCK\n",
    "    self.conv5 = nn.Sequential(\n",
    "        nn.Conv2d(in_channels=8, out_channels=16, kernel_size=(3,3), padding=0, bias=False),\n",
    "        nn.ReLU()\n",
    "    )#output = 9\n",
    "\n",
    "    self.conv6 = nn.Sequential(\n",
    "        nn.Conv2d(in_channels=16, out_channels=32, kernel_size=(3,3), padding=0, bias=False),\n",
    "        nn.ReLU()\n",
    "    )#output = 7\n",
    "\n",
    "    #OUTPUT BLOCK\n",
    "    self.conv7 = nn.Sequential(\n",
    "        nn.Conv2d(in_channels=32, out_channels=10, kernel_size=(1,1), padding=0, bias=False),\n",
    "        nn.ReLU()\n",
    "    )#output = 7\n",
    "\n",
    "    self.conv8 = nn.Sequential(\n",
    "        nn.Conv2d(in_channels=10, out_channels=10, kernel_size=(7,7), padding=0, bias=False),\n",
    "    )#output = 1\n",
    "\n",
    "  def forward(self,x):\n",
    "    x = self.conv1(x)\n",
    "    x = self.conv2(x)\n",
    "    x = self.conv3(x)\n",
    "    x = self.pool1(x)\n",
    "    x = self.conv4(x)\n",
    "    x = self.conv5(x)\n",
    "    x = self.conv6(x)\n",
    "    x = self.conv7(x)\n",
    "    x = self.conv8(x)\n",
    "    x = x.view(-1,10)\n",
    "    return F.log_softmax(x, dim=-1)"
   ]
  },
  {
   "cell_type": "code",
   "execution_count": 14,
   "id": "a26add91",
   "metadata": {},
   "outputs": [
    {
     "name": "stdout",
     "output_type": "stream",
     "text": [
      "Requirement already satisfied: torchsummary in /home/ec2-user/anaconda3/envs/pytorch_p310/lib/python3.10/site-packages (1.5.1)\n",
      "cuda\n",
      "----------------------------------------------------------------\n",
      "        Layer (type)               Output Shape         Param #\n",
      "================================================================\n",
      "            Conv2d-1            [-1, 8, 26, 26]              72\n",
      "              ReLU-2            [-1, 8, 26, 26]               0\n",
      "            Conv2d-3            [-1, 8, 24, 24]             576\n",
      "              ReLU-4            [-1, 8, 24, 24]               0\n",
      "            Conv2d-5           [-1, 16, 22, 22]           1,152\n",
      "              ReLU-6           [-1, 16, 22, 22]               0\n",
      "         MaxPool2d-7           [-1, 16, 11, 11]               0\n",
      "            Conv2d-8            [-1, 8, 11, 11]             128\n",
      "              ReLU-9            [-1, 8, 11, 11]               0\n",
      "           Conv2d-10             [-1, 16, 9, 9]           1,152\n",
      "             ReLU-11             [-1, 16, 9, 9]               0\n",
      "           Conv2d-12             [-1, 32, 7, 7]           4,608\n",
      "             ReLU-13             [-1, 32, 7, 7]               0\n",
      "           Conv2d-14             [-1, 10, 7, 7]             320\n",
      "             ReLU-15             [-1, 10, 7, 7]               0\n",
      "           Conv2d-16             [-1, 10, 1, 1]           4,900\n",
      "================================================================\n",
      "Total params: 12,908\n",
      "Trainable params: 12,908\n",
      "Non-trainable params: 0\n",
      "----------------------------------------------------------------\n",
      "Input size (MB): 0.00\n",
      "Forward/backward pass size (MB): 0.35\n",
      "Params size (MB): 0.05\n",
      "Estimated Total Size (MB): 0.40\n",
      "----------------------------------------------------------------\n"
     ]
    }
   ],
   "source": [
    "!pip install torchsummary\n",
    "from torchsummary import summary\n",
    "\n",
    "use_cuda = torch.cuda.is_available()\n",
    "device = torch.device(\"cuda\" if use_cuda else \"cpu\")\n",
    "print(device)\n",
    "\n",
    "model = Net().to(device)\n",
    "summary(model, input_size=(1,28,28))"
   ]
  },
  {
   "cell_type": "code",
   "execution_count": 15,
   "id": "85f273ac",
   "metadata": {},
   "outputs": [],
   "source": [
    "from tqdm import tqdm\n",
    "\n",
    "train_losses = []\n",
    "test_losses = []\n",
    "train_acc = []\n",
    "test_acc = []\n",
    "\n",
    "def train(model, device, train_loader, optimizer, epoch):\n",
    "  model.train()\n",
    "  pbar = tqdm(train_loader)\n",
    "  correct=0\n",
    "  processed=0\n",
    "\n",
    "  for batch_idx, (data,target) in enumerate(pbar):\n",
    "    data,target = data.to(device), target.to(device)\n",
    "\n",
    "    optimizer.zero_grad()\n",
    "\n",
    "    y_pred=model(data)\n",
    "\n",
    "    loss = F.nll_loss(y_pred, target)\n",
    "    train_losses.append(loss)\n",
    "\n",
    "    loss.backward()\n",
    "    optimizer.step()\n",
    "\n",
    "    pred = y_pred.argmax(dim=1, keepdim=True)\n",
    "    correct += pred.eq(target.view_as(pred)).sum().item()\n",
    "    processed += len(data)\n",
    "\n",
    "    pbar.set_description(desc=f'loss={loss.item()} Batch_id ={batch_idx} Accuracy={100*correct/processed:0.2f}')\n",
    "    train_acc.append(100*correct/processed)\n",
    "\n",
    "def test(model, device, test_loader):\n",
    "  model.eval()\n",
    "  test_loss = 0;\n",
    "  correct = 0;\n",
    "\n",
    "  with torch.no_grad():\n",
    "    for data, target in test_loader:\n",
    "      data,target = data.to(device), target.to(device)\n",
    "      output=model(data)\n",
    "      test_loss += F.nll_loss(output, target, reduction='sum').item()\n",
    "      pred = output.argmax(dim=1, keepdim=True)\n",
    "      correct += pred.eq(target.view_as(pred)).sum().item()\n",
    "\n",
    "  test_loss /= len(test_loader.dataset)\n",
    "  test_losses.append(test_loss)\n",
    "\n",
    "  print('\\nTest set: Average loss: {:.4f}, Accuracy: {}/{} ({:.2f}%)\\n'.format(\n",
    "      test_loss, correct, len(test_loader.dataset),\n",
    "      100. * correct / len(test_loader.dataset)\n",
    "  ))\n",
    "\n",
    "  test_acc.append(100. * correct / len(test_loader.dataset))"
   ]
  },
  {
   "cell_type": "code",
   "execution_count": 16,
   "id": "1b34e2d1",
   "metadata": {},
   "outputs": [
    {
     "name": "stdout",
     "output_type": "stream",
     "text": [
      "EPOCH:  1\n"
     ]
    },
    {
     "name": "stderr",
     "output_type": "stream",
     "text": [
      "loss=2.3014414310455322 Batch_id =468 Accuracy=11.51: 100%|██████████| 469/469 [00:04<00:00, 103.64it/s]\n"
     ]
    },
    {
     "name": "stdout",
     "output_type": "stream",
     "text": [
      "\n",
      "Test set: Average loss: 2.2999, Accuracy: 1011/10000 (10.11%)\n",
      "\n",
      "EPOCH:  2\n"
     ]
    },
    {
     "name": "stderr",
     "output_type": "stream",
     "text": [
      "loss=0.27498659491539 Batch_id =468 Accuracy=68.26: 100%|██████████| 469/469 [00:04<00:00, 109.22it/s]   \n"
     ]
    },
    {
     "name": "stdout",
     "output_type": "stream",
     "text": [
      "\n",
      "Test set: Average loss: 0.1916, Accuracy: 9422/10000 (94.22%)\n",
      "\n",
      "EPOCH:  3\n"
     ]
    },
    {
     "name": "stderr",
     "output_type": "stream",
     "text": [
      "loss=0.14109930396080017 Batch_id =468 Accuracy=95.42: 100%|██████████| 469/469 [00:04<00:00, 109.71it/s] \n"
     ]
    },
    {
     "name": "stdout",
     "output_type": "stream",
     "text": [
      "\n",
      "Test set: Average loss: 0.0931, Accuracy: 9714/10000 (97.14%)\n",
      "\n",
      "EPOCH:  4\n"
     ]
    },
    {
     "name": "stderr",
     "output_type": "stream",
     "text": [
      "loss=0.07211481779813766 Batch_id =468 Accuracy=97.11: 100%|██████████| 469/469 [00:04<00:00, 113.59it/s] \n"
     ]
    },
    {
     "name": "stdout",
     "output_type": "stream",
     "text": [
      "\n",
      "Test set: Average loss: 0.0695, Accuracy: 9776/10000 (97.76%)\n",
      "\n",
      "EPOCH:  5\n"
     ]
    },
    {
     "name": "stderr",
     "output_type": "stream",
     "text": [
      "loss=0.04495631530880928 Batch_id =468 Accuracy=97.61: 100%|██████████| 469/469 [00:04<00:00, 113.72it/s]  \n"
     ]
    },
    {
     "name": "stdout",
     "output_type": "stream",
     "text": [
      "\n",
      "Test set: Average loss: 0.0621, Accuracy: 9800/10000 (98.00%)\n",
      "\n",
      "EPOCH:  6\n"
     ]
    },
    {
     "name": "stderr",
     "output_type": "stream",
     "text": [
      "loss=0.03272944688796997 Batch_id =468 Accuracy=97.99: 100%|██████████| 469/469 [00:04<00:00, 113.72it/s]  \n"
     ]
    },
    {
     "name": "stdout",
     "output_type": "stream",
     "text": [
      "\n",
      "Test set: Average loss: 0.0575, Accuracy: 9808/10000 (98.08%)\n",
      "\n",
      "EPOCH:  7\n"
     ]
    },
    {
     "name": "stderr",
     "output_type": "stream",
     "text": [
      "loss=0.09798584133386612 Batch_id =468 Accuracy=98.24: 100%|██████████| 469/469 [00:04<00:00, 114.77it/s]  \n"
     ]
    },
    {
     "name": "stdout",
     "output_type": "stream",
     "text": [
      "\n",
      "Test set: Average loss: 0.0596, Accuracy: 9809/10000 (98.09%)\n",
      "\n",
      "EPOCH:  8\n"
     ]
    },
    {
     "name": "stderr",
     "output_type": "stream",
     "text": [
      "loss=0.021586701273918152 Batch_id =468 Accuracy=98.38: 100%|██████████| 469/469 [00:04<00:00, 111.17it/s] \n"
     ]
    },
    {
     "name": "stdout",
     "output_type": "stream",
     "text": [
      "\n",
      "Test set: Average loss: 0.0524, Accuracy: 9830/10000 (98.30%)\n",
      "\n",
      "EPOCH:  9\n"
     ]
    },
    {
     "name": "stderr",
     "output_type": "stream",
     "text": [
      "loss=0.005305544938892126 Batch_id =468 Accuracy=98.41: 100%|██████████| 469/469 [00:04<00:00, 110.10it/s] \n"
     ]
    },
    {
     "name": "stdout",
     "output_type": "stream",
     "text": [
      "\n",
      "Test set: Average loss: 0.0525, Accuracy: 9842/10000 (98.42%)\n",
      "\n",
      "EPOCH:  10\n"
     ]
    },
    {
     "name": "stderr",
     "output_type": "stream",
     "text": [
      "loss=0.026615120470523834 Batch_id =468 Accuracy=98.55: 100%|██████████| 469/469 [00:04<00:00, 110.04it/s] \n"
     ]
    },
    {
     "name": "stdout",
     "output_type": "stream",
     "text": [
      "\n",
      "Test set: Average loss: 0.0515, Accuracy: 9838/10000 (98.38%)\n",
      "\n",
      "EPOCH:  11\n"
     ]
    },
    {
     "name": "stderr",
     "output_type": "stream",
     "text": [
      "loss=0.028326719999313354 Batch_id =468 Accuracy=98.68: 100%|██████████| 469/469 [00:04<00:00, 113.64it/s]\n"
     ]
    },
    {
     "name": "stdout",
     "output_type": "stream",
     "text": [
      "\n",
      "Test set: Average loss: 0.0482, Accuracy: 9849/10000 (98.49%)\n",
      "\n",
      "EPOCH:  12\n"
     ]
    },
    {
     "name": "stderr",
     "output_type": "stream",
     "text": [
      "loss=0.025617117062211037 Batch_id =468 Accuracy=98.74: 100%|██████████| 469/469 [00:04<00:00, 111.86it/s] \n"
     ]
    },
    {
     "name": "stdout",
     "output_type": "stream",
     "text": [
      "\n",
      "Test set: Average loss: 0.0504, Accuracy: 9843/10000 (98.43%)\n",
      "\n",
      "EPOCH:  13\n"
     ]
    },
    {
     "name": "stderr",
     "output_type": "stream",
     "text": [
      "loss=0.0017125156009569764 Batch_id =468 Accuracy=98.73: 100%|██████████| 469/469 [00:04<00:00, 109.58it/s]\n"
     ]
    },
    {
     "name": "stdout",
     "output_type": "stream",
     "text": [
      "\n",
      "Test set: Average loss: 0.0548, Accuracy: 9842/10000 (98.42%)\n",
      "\n",
      "EPOCH:  14\n"
     ]
    },
    {
     "name": "stderr",
     "output_type": "stream",
     "text": [
      "loss=0.05996864661574364 Batch_id =468 Accuracy=98.87: 100%|██████████| 469/469 [00:04<00:00, 111.24it/s]  \n"
     ]
    },
    {
     "name": "stdout",
     "output_type": "stream",
     "text": [
      "\n",
      "Test set: Average loss: 0.0417, Accuracy: 9864/10000 (98.64%)\n",
      "\n",
      "EPOCH:  15\n"
     ]
    },
    {
     "name": "stderr",
     "output_type": "stream",
     "text": [
      "loss=0.023782795295119286 Batch_id =468 Accuracy=98.84: 100%|██████████| 469/469 [00:04<00:00, 109.38it/s] \n"
     ]
    },
    {
     "name": "stdout",
     "output_type": "stream",
     "text": [
      "\n",
      "Test set: Average loss: 0.0507, Accuracy: 9849/10000 (98.49%)\n",
      "\n"
     ]
    }
   ],
   "source": [
    "model = Net().to(device)\n",
    "optimizer = optim.SGD(model.parameters(), lr=0.01, momentum=0.9)\n",
    "EPOCHS = 15\n",
    "\n",
    "for epoch in range (EPOCHS):\n",
    "  print(\"EPOCH: \", epoch+1)\n",
    "  train(model, device, train_loader, optimizer, epoch)\n",
    "  test(model, device, test_loader)"
   ]
  }
 ],
 "metadata": {
  "kernelspec": {
   "display_name": "conda_pytorch_p310",
   "language": "python",
   "name": "conda_pytorch_p310"
  },
  "language_info": {
   "codemirror_mode": {
    "name": "ipython",
    "version": 3
   },
   "file_extension": ".py",
   "mimetype": "text/x-python",
   "name": "python",
   "nbconvert_exporter": "python",
   "pygments_lexer": "ipython3",
   "version": "3.10.14"
  }
 },
 "nbformat": 4,
 "nbformat_minor": 5
}
