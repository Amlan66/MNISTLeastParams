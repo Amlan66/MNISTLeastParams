{
 "cells": [
  {
   "cell_type": "markdown",
   "id": "f8bbbe0f",
   "metadata": {},
   "source": [
    "Model 3:\n",
    "Target\n",
    "1. Reduce parameters below 8k\n",
    "2. Add Dropout to each layer\n",
    "\n",
    "Result:\n",
    "1. Parameters : 7.9k\n",
    "2. Best Train Accuracy : 98.97\n",
    "3. Best Test Accuracy : 99.28\n",
    "\n",
    "Analysis:\n",
    "1. Train accuracy is not increasing over epochs and it is decreasing during an epoch, learning rate needs to be reduced after 6/7th epoch \n",
    "2. Constant training accuracy over epochs can be handled by reducing LR over epochs, data augmentation or increase in parameters"
   ]
  },
  {
   "cell_type": "code",
   "execution_count": 1,
   "id": "fb2da146",
   "metadata": {},
   "outputs": [],
   "source": [
    "from __future__ import print_function\n",
    "import torch\n",
    "import torch.nn as nn\n",
    "import torch.nn.functional as F\n",
    "import torch.optim as optim\n",
    "from torchvision import datasets, transforms"
   ]
  },
  {
   "cell_type": "code",
   "execution_count": 2,
   "id": "9045fe80",
   "metadata": {},
   "outputs": [],
   "source": [
    "train_transforms = transforms.Compose([\n",
    "    transforms.ToTensor(),\n",
    "    transforms.Normalize((0.1307,),(0.3081,))\n",
    "])\n",
    "\n",
    "test_transforms = transforms.Compose([\n",
    "    transforms.ToTensor(),\n",
    "    transforms.Normalize((0.1307,),(0.3081,))\n",
    "])"
   ]
  },
  {
   "cell_type": "code",
   "execution_count": 3,
   "id": "cac1b40b",
   "metadata": {},
   "outputs": [],
   "source": [
    "train = datasets.MNIST('./data', train=True, download=True, transform=train_transforms)\n",
    "test = datasets.MNIST('./data', train=False, download=True, transform=test_transforms)"
   ]
  },
  {
   "cell_type": "code",
   "execution_count": 4,
   "id": "2eefc9ef",
   "metadata": {},
   "outputs": [
    {
     "name": "stdout",
     "output_type": "stream",
     "text": [
      "CUDA Available? True\n"
     ]
    }
   ],
   "source": [
    "SEED = 1\n",
    "\n",
    "# CUDA?\n",
    "cuda = torch.cuda.is_available()\n",
    "print(\"CUDA Available?\", cuda)\n",
    "\n",
    "# For reproducibility\n",
    "torch.manual_seed(SEED)\n",
    "\n",
    "if cuda:\n",
    "    torch.cuda.manual_seed(SEED)\n",
    "\n",
    "dataloader_args = dict(shuffle=True, batch_size=128, num_workers=4, pin_memory=True) if cuda else dict(shuffle=True, batch_size=64)\n",
    "\n",
    "#train_loader\n",
    "train_loader = torch.utils.data.DataLoader(train, **dataloader_args)\n",
    "\n",
    "#test_loader\n",
    "test_loader = torch.utils.data.DataLoader(test, **dataloader_args)"
   ]
  },
  {
   "cell_type": "code",
   "execution_count": 5,
   "id": "2cf5001e",
   "metadata": {},
   "outputs": [],
   "source": [
    "dropout_value = 0.1\n",
    "class Net(nn.Module):\n",
    "  def __init__(self):\n",
    "    super(Net, self).__init__()\n",
    "\n",
    "    #INPUT\n",
    "    self.conv1= nn.Sequential(\n",
    "        nn.Conv2d(in_channels=1, out_channels=8, kernel_size=(3,3), padding=0, bias=False),\n",
    "        nn.ReLU(),\n",
    "        nn.BatchNorm2d(8),\n",
    "        nn.Dropout(dropout_value)        \n",
    "    )#output = 26\n",
    "\n",
    "    #CONV 1 BLOCK\n",
    "    self.conv2 = nn.Sequential(\n",
    "        nn.Conv2d(in_channels=8, out_channels=16, kernel_size=(3,3), padding=0, bias=False),\n",
    "        nn.ReLU(),\n",
    "        nn.BatchNorm2d(16),\n",
    "        nn.Dropout(dropout_value)\n",
    "    )#output = 24\n",
    "\n",
    "    #TRANSITION BLOCK\n",
    "    self.conv3 = nn.Sequential(\n",
    "        nn.Conv2d(in_channels=16, out_channels=10, kernel_size=(1,1), padding=0, bias=False),\n",
    "    )#output = 24\n",
    "\n",
    "    self.pool1 = nn.MaxPool2d(2,2)\n",
    "    #output = 12\n",
    "\n",
    "    #CONV 2 BLOCK\n",
    "    self.conv4 = nn.Sequential(\n",
    "        nn.Conv2d(in_channels=10, out_channels=16, kernel_size=(3,3), padding=0, bias=False),\n",
    "    )#output = 10\n",
    "\n",
    "    \n",
    "    self.conv5 = nn.Sequential(\n",
    "        nn.Conv2d(in_channels=16, out_channels=16, kernel_size=(3,3), padding=0, bias=False),\n",
    "        nn.ReLU(),            \n",
    "        nn.BatchNorm2d(16),\n",
    "        nn.Dropout(dropout_value)\n",
    "    )#output = 8\n",
    "\n",
    "    self.conv6 = nn.Sequential(\n",
    "        nn.Conv2d(in_channels=16, out_channels=16, kernel_size=(3,3), padding=0, bias=False),\n",
    "        nn.ReLU(),            \n",
    "        nn.BatchNorm2d(16),\n",
    "        nn.Dropout(dropout_value)\n",
    "    )#output = 6\n",
    "\n",
    "    \n",
    "    self.conv7 = nn.Sequential(\n",
    "        nn.Conv2d(in_channels=16, out_channels=16, kernel_size=(1,1), padding=1, bias=False),\n",
    "        nn.ReLU(),            \n",
    "        nn.BatchNorm2d(16),\n",
    "        nn.Dropout(dropout_value)\n",
    "    )#output = 6\n",
    "\n",
    "    #OUTPUT BLOCK\n",
    "    self.gap = nn.Sequential(\n",
    "         nn.AvgPool2d(kernel_size=6)\n",
    "    )#output = 1\n",
    "\n",
    "    self.conv8 = nn.Sequential(\n",
    "        nn.Conv2d(in_channels=16, out_channels=10, kernel_size=(1, 1), padding=0, bias=False),\n",
    "    ) \n",
    "\n",
    "\n",
    "  def forward(self,x):\n",
    "    x = self.conv1(x)\n",
    "    x = self.conv2(x)\n",
    "    x = self.conv3(x)\n",
    "    x = self.pool1(x)\n",
    "    x = self.conv4(x)\n",
    "    x = self.conv5(x)\n",
    "    x = self.conv6(x)\n",
    "    x = self.conv7(x)\n",
    "    x = self.gap(x)\n",
    "    x = self.conv8(x)\n",
    "    x = x.view(-1,10)\n",
    "    return F.log_softmax(x, dim=-1)\n"
   ]
  },
  {
   "cell_type": "code",
   "execution_count": 6,
   "id": "a26add91",
   "metadata": {},
   "outputs": [
    {
     "name": "stdout",
     "output_type": "stream",
     "text": [
      "Requirement already satisfied: torchsummary in /home/ec2-user/anaconda3/envs/pytorch_p310/lib/python3.10/site-packages (1.5.1)\n",
      "cuda\n",
      "----------------------------------------------------------------\n",
      "        Layer (type)               Output Shape         Param #\n",
      "================================================================\n",
      "            Conv2d-1            [-1, 8, 26, 26]              72\n",
      "              ReLU-2            [-1, 8, 26, 26]               0\n",
      "       BatchNorm2d-3            [-1, 8, 26, 26]              16\n",
      "           Dropout-4            [-1, 8, 26, 26]               0\n",
      "            Conv2d-5           [-1, 16, 24, 24]           1,152\n",
      "              ReLU-6           [-1, 16, 24, 24]               0\n",
      "       BatchNorm2d-7           [-1, 16, 24, 24]              32\n",
      "           Dropout-8           [-1, 16, 24, 24]               0\n",
      "            Conv2d-9           [-1, 10, 24, 24]             160\n",
      "        MaxPool2d-10           [-1, 10, 12, 12]               0\n",
      "           Conv2d-11           [-1, 16, 10, 10]           1,440\n",
      "           Conv2d-12             [-1, 16, 8, 8]           2,304\n",
      "             ReLU-13             [-1, 16, 8, 8]               0\n",
      "      BatchNorm2d-14             [-1, 16, 8, 8]              32\n",
      "          Dropout-15             [-1, 16, 8, 8]               0\n",
      "           Conv2d-16             [-1, 16, 6, 6]           2,304\n",
      "             ReLU-17             [-1, 16, 6, 6]               0\n",
      "      BatchNorm2d-18             [-1, 16, 6, 6]              32\n",
      "          Dropout-19             [-1, 16, 6, 6]               0\n",
      "           Conv2d-20             [-1, 16, 8, 8]             256\n",
      "             ReLU-21             [-1, 16, 8, 8]               0\n",
      "      BatchNorm2d-22             [-1, 16, 8, 8]              32\n",
      "          Dropout-23             [-1, 16, 8, 8]               0\n",
      "        AvgPool2d-24             [-1, 16, 1, 1]               0\n",
      "           Conv2d-25             [-1, 10, 1, 1]             160\n",
      "================================================================\n",
      "Total params: 7,992\n",
      "Trainable params: 7,992\n",
      "Non-trainable params: 0\n",
      "----------------------------------------------------------------\n",
      "Input size (MB): 0.00\n",
      "Forward/backward pass size (MB): 0.59\n",
      "Params size (MB): 0.03\n",
      "Estimated Total Size (MB): 0.63\n",
      "----------------------------------------------------------------\n"
     ]
    }
   ],
   "source": [
    "!pip install torchsummary\n",
    "from torchsummary import summary\n",
    "\n",
    "use_cuda = torch.cuda.is_available()\n",
    "device = torch.device(\"cuda\" if use_cuda else \"cpu\")\n",
    "print(device)\n",
    "\n",
    "model = Net().to(device)\n",
    "summary(model, input_size=(1,28,28))"
   ]
  },
  {
   "cell_type": "code",
   "execution_count": 7,
   "id": "85f273ac",
   "metadata": {},
   "outputs": [],
   "source": [
    "from tqdm import tqdm\n",
    "\n",
    "train_losses = []\n",
    "test_losses = []\n",
    "train_acc = []\n",
    "test_acc = []\n",
    "\n",
    "def train(model, device, train_loader, optimizer, epoch):\n",
    "  model.train()\n",
    "  pbar = tqdm(train_loader)\n",
    "  correct=0\n",
    "  processed=0\n",
    "\n",
    "  for batch_idx, (data,target) in enumerate(pbar):\n",
    "    data,target = data.to(device), target.to(device)\n",
    "\n",
    "    optimizer.zero_grad()\n",
    "\n",
    "    y_pred=model(data)\n",
    "\n",
    "    loss = F.nll_loss(y_pred, target)\n",
    "    train_losses.append(loss)\n",
    "\n",
    "    loss.backward()\n",
    "    optimizer.step()\n",
    "\n",
    "    pred = y_pred.argmax(dim=1, keepdim=True)\n",
    "    correct += pred.eq(target.view_as(pred)).sum().item()\n",
    "    processed += len(data)\n",
    "\n",
    "    pbar.set_description(desc=f'loss={loss.item()} Batch_id ={batch_idx} Accuracy={100*correct/processed:0.2f}')\n",
    "    train_acc.append(100*correct/processed)\n",
    "\n",
    "def test(model, device, test_loader):\n",
    "  model.eval()\n",
    "  test_loss = 0;\n",
    "  correct = 0;\n",
    "\n",
    "  with torch.no_grad():\n",
    "    for data, target in test_loader:\n",
    "      data,target = data.to(device), target.to(device)\n",
    "      output=model(data)\n",
    "      test_loss += F.nll_loss(output, target, reduction='sum').item()\n",
    "      pred = output.argmax(dim=1, keepdim=True)\n",
    "      correct += pred.eq(target.view_as(pred)).sum().item()\n",
    "\n",
    "  test_loss /= len(test_loader.dataset)\n",
    "  test_losses.append(test_loss)\n",
    "\n",
    "  print('\\nTest set: Average loss: {:.4f}, Accuracy: {}/{} ({:.2f}%)\\n'.format(\n",
    "      test_loss, correct, len(test_loader.dataset),\n",
    "      100. * correct / len(test_loader.dataset)\n",
    "  ))\n",
    "\n",
    "  test_acc.append(100. * correct / len(test_loader.dataset))"
   ]
  },
  {
   "cell_type": "code",
   "execution_count": 8,
   "id": "1b34e2d1",
   "metadata": {},
   "outputs": [
    {
     "name": "stdout",
     "output_type": "stream",
     "text": [
      "EPOCH:  1\n"
     ]
    },
    {
     "name": "stderr",
     "output_type": "stream",
     "text": [
      "loss=0.08654878288507462 Batch_id =468 Accuracy=83.79: 100%|██████████| 469/469 [00:04<00:00, 101.08it/s]\n"
     ]
    },
    {
     "name": "stdout",
     "output_type": "stream",
     "text": [
      "\n",
      "Test set: Average loss: 0.1449, Accuracy: 9628/10000 (96.28%)\n",
      "\n",
      "EPOCH:  2\n"
     ]
    },
    {
     "name": "stderr",
     "output_type": "stream",
     "text": [
      "loss=0.0809699147939682 Batch_id =468 Accuracy=96.97: 100%|██████████| 469/469 [00:04<00:00, 114.50it/s]  \n"
     ]
    },
    {
     "name": "stdout",
     "output_type": "stream",
     "text": [
      "\n",
      "Test set: Average loss: 0.0764, Accuracy: 9783/10000 (97.83%)\n",
      "\n",
      "EPOCH:  3\n"
     ]
    },
    {
     "name": "stderr",
     "output_type": "stream",
     "text": [
      "loss=0.02374902553856373 Batch_id =468 Accuracy=97.84: 100%|██████████| 469/469 [00:04<00:00, 113.66it/s] \n"
     ]
    },
    {
     "name": "stdout",
     "output_type": "stream",
     "text": [
      "\n",
      "Test set: Average loss: 0.0516, Accuracy: 9851/10000 (98.51%)\n",
      "\n",
      "EPOCH:  4\n"
     ]
    },
    {
     "name": "stderr",
     "output_type": "stream",
     "text": [
      "loss=0.05492859706282616 Batch_id =468 Accuracy=98.25: 100%|██████████| 469/469 [00:04<00:00, 112.84it/s] \n"
     ]
    },
    {
     "name": "stdout",
     "output_type": "stream",
     "text": [
      "\n",
      "Test set: Average loss: 0.0408, Accuracy: 9885/10000 (98.85%)\n",
      "\n",
      "EPOCH:  5\n"
     ]
    },
    {
     "name": "stderr",
     "output_type": "stream",
     "text": [
      "loss=0.07442554831504822 Batch_id =468 Accuracy=98.39: 100%|██████████| 469/469 [00:04<00:00, 112.30it/s] \n"
     ]
    },
    {
     "name": "stdout",
     "output_type": "stream",
     "text": [
      "\n",
      "Test set: Average loss: 0.0410, Accuracy: 9878/10000 (98.78%)\n",
      "\n",
      "EPOCH:  6\n"
     ]
    },
    {
     "name": "stderr",
     "output_type": "stream",
     "text": [
      "loss=0.04580560699105263 Batch_id =468 Accuracy=98.41: 100%|██████████| 469/469 [00:04<00:00, 113.76it/s] \n"
     ]
    },
    {
     "name": "stdout",
     "output_type": "stream",
     "text": [
      "\n",
      "Test set: Average loss: 0.0374, Accuracy: 9883/10000 (98.83%)\n",
      "\n",
      "EPOCH:  7\n"
     ]
    },
    {
     "name": "stderr",
     "output_type": "stream",
     "text": [
      "loss=0.08970924466848373 Batch_id =468 Accuracy=98.55: 100%|██████████| 469/469 [00:04<00:00, 110.66it/s] \n"
     ]
    },
    {
     "name": "stdout",
     "output_type": "stream",
     "text": [
      "\n",
      "Test set: Average loss: 0.0314, Accuracy: 9907/10000 (99.07%)\n",
      "\n",
      "EPOCH:  8\n"
     ]
    },
    {
     "name": "stderr",
     "output_type": "stream",
     "text": [
      "loss=0.018988000229001045 Batch_id =468 Accuracy=98.69: 100%|██████████| 469/469 [00:04<00:00, 112.10it/s]\n"
     ]
    },
    {
     "name": "stdout",
     "output_type": "stream",
     "text": [
      "\n",
      "Test set: Average loss: 0.0296, Accuracy: 9909/10000 (99.09%)\n",
      "\n",
      "EPOCH:  9\n"
     ]
    },
    {
     "name": "stderr",
     "output_type": "stream",
     "text": [
      "loss=0.012806091457605362 Batch_id =468 Accuracy=98.67: 100%|██████████| 469/469 [00:04<00:00, 113.18it/s]\n"
     ]
    },
    {
     "name": "stdout",
     "output_type": "stream",
     "text": [
      "\n",
      "Test set: Average loss: 0.0307, Accuracy: 9899/10000 (98.99%)\n",
      "\n",
      "EPOCH:  10\n"
     ]
    },
    {
     "name": "stderr",
     "output_type": "stream",
     "text": [
      "loss=0.04187886044383049 Batch_id =468 Accuracy=98.82: 100%|██████████| 469/469 [00:04<00:00, 104.47it/s]  \n"
     ]
    },
    {
     "name": "stdout",
     "output_type": "stream",
     "text": [
      "\n",
      "Test set: Average loss: 0.0254, Accuracy: 9928/10000 (99.28%)\n",
      "\n",
      "EPOCH:  11\n"
     ]
    },
    {
     "name": "stderr",
     "output_type": "stream",
     "text": [
      "loss=0.027422606945037842 Batch_id =468 Accuracy=98.78: 100%|██████████| 469/469 [00:04<00:00, 112.98it/s] \n"
     ]
    },
    {
     "name": "stdout",
     "output_type": "stream",
     "text": [
      "\n",
      "Test set: Average loss: 0.0269, Accuracy: 9912/10000 (99.12%)\n",
      "\n",
      "EPOCH:  12\n"
     ]
    },
    {
     "name": "stderr",
     "output_type": "stream",
     "text": [
      "loss=0.020667964592576027 Batch_id =468 Accuracy=98.92: 100%|██████████| 469/469 [00:04<00:00, 111.29it/s]\n"
     ]
    },
    {
     "name": "stdout",
     "output_type": "stream",
     "text": [
      "\n",
      "Test set: Average loss: 0.0277, Accuracy: 9916/10000 (99.16%)\n",
      "\n",
      "EPOCH:  13\n"
     ]
    },
    {
     "name": "stderr",
     "output_type": "stream",
     "text": [
      "loss=0.09196571260690689 Batch_id =468 Accuracy=98.85: 100%|██████████| 469/469 [00:04<00:00, 110.36it/s]  \n"
     ]
    },
    {
     "name": "stdout",
     "output_type": "stream",
     "text": [
      "\n",
      "Test set: Average loss: 0.0264, Accuracy: 9915/10000 (99.15%)\n",
      "\n",
      "EPOCH:  14\n"
     ]
    },
    {
     "name": "stderr",
     "output_type": "stream",
     "text": [
      "loss=0.02531386911869049 Batch_id =468 Accuracy=98.97: 100%|██████████| 469/469 [00:04<00:00, 112.31it/s]  \n"
     ]
    },
    {
     "name": "stdout",
     "output_type": "stream",
     "text": [
      "\n",
      "Test set: Average loss: 0.0292, Accuracy: 9909/10000 (99.09%)\n",
      "\n",
      "EPOCH:  15\n"
     ]
    },
    {
     "name": "stderr",
     "output_type": "stream",
     "text": [
      "loss=0.03187103569507599 Batch_id =468 Accuracy=98.86: 100%|██████████| 469/469 [00:04<00:00, 112.58it/s]  \n"
     ]
    },
    {
     "name": "stdout",
     "output_type": "stream",
     "text": [
      "\n",
      "Test set: Average loss: 0.0282, Accuracy: 9916/10000 (99.16%)\n",
      "\n"
     ]
    }
   ],
   "source": [
    "model = Net().to(device)\n",
    "optimizer = optim.SGD(model.parameters(), lr=0.01, momentum=0.9)\n",
    "EPOCHS = 15\n",
    "\n",
    "for epoch in range (EPOCHS):\n",
    "  print(\"EPOCH: \", epoch+1)\n",
    "  train(model, device, train_loader, optimizer, epoch)\n",
    "  test(model, device, test_loader)"
   ]
  },
  {
   "cell_type": "code",
   "execution_count": null,
   "id": "66549590",
   "metadata": {},
   "outputs": [],
   "source": []
  }
 ],
 "metadata": {
  "kernelspec": {
   "display_name": "venv",
   "language": "python",
   "name": "python3"
  },
  "language_info": {
   "codemirror_mode": {
    "name": "ipython",
    "version": 3
   },
   "file_extension": ".py",
   "mimetype": "text/x-python",
   "name": "python",
   "nbconvert_exporter": "python",
   "pygments_lexer": "ipython3",
   "version": "3.12.8"
  }
 },
 "nbformat": 4,
 "nbformat_minor": 5
}
